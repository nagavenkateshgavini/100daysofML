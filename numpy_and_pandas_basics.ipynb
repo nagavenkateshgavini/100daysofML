{
  "nbformat": 4,
  "nbformat_minor": 0,
  "metadata": {
    "colab": {
      "provenance": [],
      "authorship_tag": "ABX9TyOXU8+ZDIIEoQu5/5yQ4/+G",
      "include_colab_link": true
    },
    "kernelspec": {
      "name": "python3",
      "display_name": "Python 3"
    },
    "language_info": {
      "name": "python"
    }
  },
  "cells": [
    {
      "cell_type": "markdown",
      "metadata": {
        "id": "view-in-github",
        "colab_type": "text"
      },
      "source": [
        "<a href=\"https://colab.research.google.com/github/nagavenkateshgavini/100daysofML/blob/main/numpy_and_pandas_basics.ipynb\" target=\"_parent\"><img src=\"https://colab.research.google.com/assets/colab-badge.svg\" alt=\"Open In Colab\"/></a>"
      ]
    },
    {
      "cell_type": "code",
      "execution_count": 1,
      "metadata": {
        "id": "ItoI0tB8t8yd"
      },
      "outputs": [],
      "source": [
        "import numpy as np"
      ]
    },
    {
      "cell_type": "code",
      "source": [
        "one_d = np.array([1, 2, 3])"
      ],
      "metadata": {
        "id": "60HnpTl6uDGS"
      },
      "execution_count": 2,
      "outputs": []
    },
    {
      "cell_type": "code",
      "source": [
        "one_d"
      ],
      "metadata": {
        "colab": {
          "base_uri": "https://localhost:8080/"
        },
        "id": "PlX375nZuKQS",
        "outputId": "d0d53a5b-f605-4981-9cf8-08d4504a0cef"
      },
      "execution_count": 3,
      "outputs": [
        {
          "output_type": "execute_result",
          "data": {
            "text/plain": [
              "array([1, 2, 3])"
            ]
          },
          "metadata": {},
          "execution_count": 3
        }
      ]
    },
    {
      "cell_type": "code",
      "source": [
        "two_d = np.array([[1, 2], [3, 4], [5, 6]])"
      ],
      "metadata": {
        "id": "zMJyqFcPuLCt"
      },
      "execution_count": 4,
      "outputs": []
    },
    {
      "cell_type": "code",
      "source": [
        "two_d"
      ],
      "metadata": {
        "colab": {
          "base_uri": "https://localhost:8080/"
        },
        "id": "7tlKwrKwuUhk",
        "outputId": "ad3cdc50-6b6e-4610-bd19-f9de024a05ba"
      },
      "execution_count": 5,
      "outputs": [
        {
          "output_type": "execute_result",
          "data": {
            "text/plain": [
              "array([[1, 2],\n",
              "       [3, 4],\n",
              "       [5, 6]])"
            ]
          },
          "metadata": {},
          "execution_count": 5
        }
      ]
    },
    {
      "cell_type": "code",
      "source": [
        "arr_zeros = np.zeros([3,2])\n",
        "arr_zeros"
      ],
      "metadata": {
        "colab": {
          "base_uri": "https://localhost:8080/"
        },
        "id": "Fs1fq9yBuVKE",
        "outputId": "8acecf9a-c6c4-414c-e731-56adf58d3a31"
      },
      "execution_count": 6,
      "outputs": [
        {
          "output_type": "execute_result",
          "data": {
            "text/plain": [
              "array([[0., 0.],\n",
              "       [0., 0.],\n",
              "       [0., 0.]])"
            ]
          },
          "metadata": {},
          "execution_count": 6
        }
      ]
    },
    {
      "cell_type": "code",
      "source": [
        "rand_ints = np.random.randint(low=50, high=100, size=(6))\n",
        "rand_ints"
      ],
      "metadata": {
        "colab": {
          "base_uri": "https://localhost:8080/"
        },
        "id": "Z-QGVrr0us1T",
        "outputId": "d1c1cccc-9dba-4b38-a207-f142f85fa3bc"
      },
      "execution_count": 7,
      "outputs": [
        {
          "output_type": "execute_result",
          "data": {
            "text/plain": [
              "array([98, 82, 96, 73, 54, 80])"
            ]
          },
          "metadata": {},
          "execution_count": 7
        }
      ]
    },
    {
      "cell_type": "code",
      "source": [
        "np.random.random([6])"
      ],
      "metadata": {
        "colab": {
          "base_uri": "https://localhost:8080/"
        },
        "id": "5JVIYgJHvKDT",
        "outputId": "7b5b4f92-a505-4f04-940d-189c8f420bda"
      },
      "execution_count": 8,
      "outputs": [
        {
          "output_type": "execute_result",
          "data": {
            "text/plain": [
              "array([0.07733358, 0.5721378 , 0.34244568, 0.47730556, 0.83996335,\n",
              "       0.33839593])"
            ]
          },
          "metadata": {},
          "execution_count": 8
        }
      ]
    },
    {
      "cell_type": "markdown",
      "source": [],
      "metadata": {
        "id": "fwC0vpTFvndK"
      }
    },
    {
      "cell_type": "markdown",
      "source": [
        "Task 1: Creating a dataset"
      ],
      "metadata": {
        "id": "ucslvDOPvqFt"
      }
    },
    {
      "cell_type": "markdown",
      "source": [],
      "metadata": {
        "id": "KIbL0b8DDOwB"
      }
    },
    {
      "cell_type": "code",
      "source": [
        "feature = np.arange(6, 21)\n",
        "print(feature)\n",
        "label = 3 * feature + 4\n",
        "print(label)"
      ],
      "metadata": {
        "colab": {
          "base_uri": "https://localhost:8080/"
        },
        "id": "FRwRaRprCazB",
        "outputId": "65aae7a8-e867-4da2-e931-3f61926e44be"
      },
      "execution_count": 13,
      "outputs": [
        {
          "output_type": "stream",
          "name": "stdout",
          "text": [
            "[ 6  7  8  9 10 11 12 13 14 15 16 17 18 19 20]\n",
            "[22 25 28 31 34 37 40 43 46 49 52 55 58 61 64]\n"
          ]
        }
      ]
    },
    {
      "cell_type": "markdown",
      "source": [
        "Task 2: Add some noise"
      ],
      "metadata": {
        "id": "74B-jsCgDTk8"
      }
    },
    {
      "cell_type": "code",
      "source": [
        "noise = np.random.random(15) * 4 - 2"
      ],
      "metadata": {
        "id": "66AkvIptDE1E"
      },
      "execution_count": 14,
      "outputs": []
    },
    {
      "cell_type": "code",
      "source": [
        "noise"
      ],
      "metadata": {
        "colab": {
          "base_uri": "https://localhost:8080/"
        },
        "id": "FUN1QCrFD3wZ",
        "outputId": "9078f2ab-33a7-4580-e3d1-8e5c712fbd55"
      },
      "execution_count": 15,
      "outputs": [
        {
          "output_type": "execute_result",
          "data": {
            "text/plain": [
              "array([ 1.36943487, -1.13998976,  0.85301877, -1.00937131,  0.42738274,\n",
              "       -1.86928967, -0.7756998 , -0.13366451,  1.13121748, -0.64673614,\n",
              "       -1.00993793, -1.15775789, -0.52672709, -1.1916801 ,  0.39393292])"
            ]
          },
          "metadata": {},
          "execution_count": 15
        }
      ]
    },
    {
      "cell_type": "code",
      "source": [
        "label = label + noise"
      ],
      "metadata": {
        "id": "gQpmjWUED4Tk"
      },
      "execution_count": 22,
      "outputs": []
    },
    {
      "cell_type": "code",
      "source": [
        "label"
      ],
      "metadata": {
        "colab": {
          "base_uri": "https://localhost:8080/"
        },
        "id": "dl0_jWwSEz7F",
        "outputId": "f3791d9a-eaae-44e0-b451-0e2638731d9f"
      },
      "execution_count": 23,
      "outputs": [
        {
          "output_type": "execute_result",
          "data": {
            "text/plain": [
              "array([23.36943487, 23.86001024, 28.85301877, 29.99062869, 34.42738274,\n",
              "       35.13071033, 39.2243002 , 42.86633549, 47.13121748, 48.35326386,\n",
              "       50.99006207, 53.84224211, 57.47327291, 59.8083199 , 64.39393292])"
            ]
          },
          "metadata": {},
          "execution_count": 23
        }
      ]
    },
    {
      "cell_type": "code",
      "source": [],
      "metadata": {
        "id": "8KAqaLWQE2JG"
      },
      "execution_count": null,
      "outputs": []
    }
  ]
}